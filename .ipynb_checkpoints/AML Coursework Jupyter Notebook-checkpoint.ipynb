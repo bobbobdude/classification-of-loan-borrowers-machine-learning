{
 "cells": [
  {
   "cell_type": "markdown",
   "metadata": {},
   "source": [
    "# The Data"
   ]
  },
  {
   "cell_type": "markdown",
   "metadata": {},
   "source": [
    "## Importing and describing the data using the CSV File"
   ]
  },
  {
   "cell_type": "markdown",
   "metadata": {},
   "source": [
    "First we install the Pandas library, which gives us the functions that allows us to read our CSV file among other things (as well as other libraries which give us more functionality):"
   ]
  },
  {
   "cell_type": "code",
   "execution_count": 1,
   "metadata": {},
   "outputs": [
    {
     "name": "stdout",
     "output_type": "stream",
     "text": [
      "Requirement already satisfied: imbalanced-learn in /home/codio/.local/lib/python3.6/site-packages (0.6.0)\n",
      "Requirement already satisfied: numpy>=1.11 in /home/codio/.local/lib/python3.6/site-packages (from imbalanced-learn) (1.19.5)\n",
      "Requirement already satisfied: scipy>=0.17 in /home/codio/.local/lib/python3.6/site-packages (from imbalanced-learn) (1.5.4)\n",
      "Requirement already satisfied: joblib>=0.11 in /home/codio/.local/lib/python3.6/site-packages (from imbalanced-learn) (1.1.0)\n",
      "Requirement already satisfied: scikit-learn>=0.22 in /home/codio/.local/lib/python3.6/site-packages (from imbalanced-learn) (0.24.2)\n",
      "Requirement already satisfied: threadpoolctl>=2.0.0 in /home/codio/.local/lib/python3.6/site-packages (from scikit-learn>=0.22->imbalanced-learn) (3.1.0)\n",
      "\u001b[33mWARNING: You are using pip version 19.1.1, however version 21.3.1 is available.\n",
      "You should consider upgrading via the 'pip install --upgrade pip' command.\u001b[0m\n"
     ]
    }
   ],
   "source": [
    "!pip install imbalanced-learn --user"
   ]
  },
  {
   "cell_type": "code",
   "execution_count": 2,
   "metadata": {},
   "outputs": [
    {
     "name": "stdout",
     "output_type": "stream",
     "text": [
      "Requirement already satisfied: scipy in /home/codio/.local/lib/python3.6/site-packages (1.5.4)\n",
      "Requirement already satisfied: numpy>=1.14.5 in /home/codio/.local/lib/python3.6/site-packages (from scipy) (1.19.5)\n",
      "\u001b[33mWARNING: You are using pip version 19.1.1, however version 21.3.1 is available.\n",
      "You should consider upgrading via the 'pip install --upgrade pip' command.\u001b[0m\n"
     ]
    }
   ],
   "source": [
    "!pip install scipy --user"
   ]
  },
  {
   "cell_type": "code",
   "execution_count": 3,
   "metadata": {},
   "outputs": [
    {
     "name": "stdout",
     "output_type": "stream",
     "text": [
      "Requirement already satisfied: numpy in /home/codio/.local/lib/python3.6/site-packages (1.19.5)\n",
      "\u001b[33mWARNING: You are using pip version 19.1.1, however version 21.3.1 is available.\n",
      "You should consider upgrading via the 'pip install --upgrade pip' command.\u001b[0m\n"
     ]
    }
   ],
   "source": [
    "!pip install numpy --user"
   ]
  },
  {
   "cell_type": "code",
   "execution_count": 4,
   "metadata": {},
   "outputs": [
    {
     "name": "stdout",
     "output_type": "stream",
     "text": [
      "Requirement already satisfied: sklearn in /home/codio/.local/lib/python3.6/site-packages (0.0)\n",
      "Requirement already satisfied: scikit-learn in /home/codio/.local/lib/python3.6/site-packages (from sklearn) (0.24.2)\n",
      "Requirement already satisfied: threadpoolctl>=2.0.0 in /home/codio/.local/lib/python3.6/site-packages (from scikit-learn->sklearn) (3.1.0)\n",
      "Requirement already satisfied: scipy>=0.19.1 in /home/codio/.local/lib/python3.6/site-packages (from scikit-learn->sklearn) (1.5.4)\n",
      "Requirement already satisfied: numpy>=1.13.3 in /home/codio/.local/lib/python3.6/site-packages (from scikit-learn->sklearn) (1.19.5)\n",
      "Requirement already satisfied: joblib>=0.11 in /home/codio/.local/lib/python3.6/site-packages (from scikit-learn->sklearn) (1.1.0)\n",
      "\u001b[33mWARNING: You are using pip version 19.1.1, however version 21.3.1 is available.\n",
      "You should consider upgrading via the 'pip install --upgrade pip' command.\u001b[0m\n"
     ]
    }
   ],
   "source": [
    "!pip install sklearn --user"
   ]
  },
  {
   "cell_type": "code",
   "execution_count": 5,
   "metadata": {},
   "outputs": [
    {
     "name": "stdout",
     "output_type": "stream",
     "text": [
      "Requirement already satisfied: matplotlib in /usr/local/lib/python3.6/dist-packages (3.0.3)\n",
      "Requirement already satisfied: cycler>=0.10 in /usr/local/lib/python3.6/dist-packages (from matplotlib) (0.10.0)\n",
      "Requirement already satisfied: numpy>=1.10.0 in /home/codio/.local/lib/python3.6/site-packages (from matplotlib) (1.19.5)\n",
      "Requirement already satisfied: python-dateutil>=2.1 in /usr/local/lib/python3.6/dist-packages (from matplotlib) (2.8.0)\n",
      "Requirement already satisfied: pyparsing!=2.0.4,!=2.1.2,!=2.1.6,>=2.0.1 in /usr/local/lib/python3.6/dist-packages (from matplotlib) (2.4.0)\n",
      "Requirement already satisfied: kiwisolver>=1.0.1 in /usr/local/lib/python3.6/dist-packages (from matplotlib) (1.1.0)\n",
      "Requirement already satisfied: six in /usr/lib/python3/dist-packages (from cycler>=0.10->matplotlib) (1.11.0)\n",
      "Requirement already satisfied: setuptools in /usr/lib/python3/dist-packages (from kiwisolver>=1.0.1->matplotlib) (39.0.1)\n",
      "\u001b[33mWARNING: You are using pip version 19.1.1, however version 21.3.1 is available.\n",
      "You should consider upgrading via the 'pip install --upgrade pip' command.\u001b[0m\n"
     ]
    }
   ],
   "source": [
    "!pip install matplotlib --user"
   ]
  },
  {
   "cell_type": "code",
   "execution_count": 6,
   "metadata": {},
   "outputs": [
    {
     "name": "stdout",
     "output_type": "stream",
     "text": [
      "Requirement already satisfied: pandas in /home/codio/.local/lib/python3.6/site-packages (1.1.5)\n",
      "Requirement already satisfied: numpy>=1.15.4 in /home/codio/.local/lib/python3.6/site-packages (from pandas) (1.19.5)\n",
      "Requirement already satisfied: pytz>=2017.2 in /home/codio/.local/lib/python3.6/site-packages (from pandas) (2022.1)\n",
      "Requirement already satisfied: python-dateutil>=2.7.3 in /usr/local/lib/python3.6/dist-packages (from pandas) (2.8.0)\n",
      "Requirement already satisfied: six>=1.5 in /usr/lib/python3/dist-packages (from python-dateutil>=2.7.3->pandas) (1.11.0)\n",
      "\u001b[33mWARNING: You are using pip version 19.1.1, however version 21.3.1 is available.\n",
      "You should consider upgrading via the 'pip install --upgrade pip' command.\u001b[0m\n"
     ]
    }
   ],
   "source": [
    "!pip install pandas --user"
   ]
  },
  {
   "cell_type": "markdown",
   "metadata": {},
   "source": [
    "Now we will import Pandas as pd meaning we can access all the functions of the pandas library by using dot notation on pd instead of the full name of the library (pandas). This will be demonstrated below by using the read_csv function:"
   ]
  },
  {
   "cell_type": "code",
   "execution_count": 8,
   "metadata": {},
   "outputs": [],
   "source": [
    "import pandas as pd\n",
    "\n",
    "filename = 'german_credit_data.csv'\n",
    "\n",
    "data = pd.read_csv(filename)"
   ]
  },
  {
   "cell_type": "markdown",
   "metadata": {},
   "source": [
    "Now we can print the first rows of our data to get a clean general overview of the dataset using the ```.head``` pandas function. The following method will (by default) print 5 rows:"
   ]
  },
  {
   "cell_type": "code",
   "execution_count": 9,
   "metadata": {},
   "outputs": [
    {
     "data": {
      "text/html": [
       "<div>\n",
       "<style scoped>\n",
       "    .dataframe tbody tr th:only-of-type {\n",
       "        vertical-align: middle;\n",
       "    }\n",
       "\n",
       "    .dataframe tbody tr th {\n",
       "        vertical-align: top;\n",
       "    }\n",
       "\n",
       "    .dataframe thead th {\n",
       "        text-align: right;\n",
       "    }\n",
       "</style>\n",
       "<table border=\"1\" class=\"dataframe\">\n",
       "  <thead>\n",
       "    <tr style=\"text-align: right;\">\n",
       "      <th></th>\n",
       "      <th>Unnamed: 0</th>\n",
       "      <th>Age</th>\n",
       "      <th>Sex</th>\n",
       "      <th>Job</th>\n",
       "      <th>Housing</th>\n",
       "      <th>Saving accounts</th>\n",
       "      <th>Checking account</th>\n",
       "      <th>Credit amount</th>\n",
       "      <th>Duration</th>\n",
       "      <th>Purpose</th>\n",
       "      <th>Risk</th>\n",
       "    </tr>\n",
       "  </thead>\n",
       "  <tbody>\n",
       "    <tr>\n",
       "      <th>0</th>\n",
       "      <td>0</td>\n",
       "      <td>67</td>\n",
       "      <td>male</td>\n",
       "      <td>2</td>\n",
       "      <td>own</td>\n",
       "      <td>NaN</td>\n",
       "      <td>little</td>\n",
       "      <td>1169</td>\n",
       "      <td>6</td>\n",
       "      <td>radio/TV</td>\n",
       "      <td>good</td>\n",
       "    </tr>\n",
       "    <tr>\n",
       "      <th>1</th>\n",
       "      <td>1</td>\n",
       "      <td>22</td>\n",
       "      <td>female</td>\n",
       "      <td>2</td>\n",
       "      <td>own</td>\n",
       "      <td>little</td>\n",
       "      <td>moderate</td>\n",
       "      <td>5951</td>\n",
       "      <td>48</td>\n",
       "      <td>radio/TV</td>\n",
       "      <td>bad</td>\n",
       "    </tr>\n",
       "    <tr>\n",
       "      <th>2</th>\n",
       "      <td>2</td>\n",
       "      <td>49</td>\n",
       "      <td>male</td>\n",
       "      <td>1</td>\n",
       "      <td>own</td>\n",
       "      <td>little</td>\n",
       "      <td>NaN</td>\n",
       "      <td>2096</td>\n",
       "      <td>12</td>\n",
       "      <td>education</td>\n",
       "      <td>good</td>\n",
       "    </tr>\n",
       "    <tr>\n",
       "      <th>3</th>\n",
       "      <td>3</td>\n",
       "      <td>45</td>\n",
       "      <td>male</td>\n",
       "      <td>2</td>\n",
       "      <td>free</td>\n",
       "      <td>little</td>\n",
       "      <td>little</td>\n",
       "      <td>7882</td>\n",
       "      <td>42</td>\n",
       "      <td>furniture/equipment</td>\n",
       "      <td>good</td>\n",
       "    </tr>\n",
       "    <tr>\n",
       "      <th>4</th>\n",
       "      <td>4</td>\n",
       "      <td>53</td>\n",
       "      <td>male</td>\n",
       "      <td>2</td>\n",
       "      <td>free</td>\n",
       "      <td>little</td>\n",
       "      <td>little</td>\n",
       "      <td>4870</td>\n",
       "      <td>24</td>\n",
       "      <td>car</td>\n",
       "      <td>bad</td>\n",
       "    </tr>\n",
       "  </tbody>\n",
       "</table>\n",
       "</div>"
      ],
      "text/plain": [
       "   Unnamed: 0  Age     Sex  Job Housing Saving accounts Checking account  \\\n",
       "0           0   67    male    2     own             NaN           little   \n",
       "1           1   22  female    2     own          little         moderate   \n",
       "2           2   49    male    1     own          little              NaN   \n",
       "3           3   45    male    2    free          little           little   \n",
       "4           4   53    male    2    free          little           little   \n",
       "\n",
       "   Credit amount  Duration              Purpose  Risk  \n",
       "0           1169         6             radio/TV  good  \n",
       "1           5951        48             radio/TV   bad  \n",
       "2           2096        12            education  good  \n",
       "3           7882        42  furniture/equipment  good  \n",
       "4           4870        24                  car   bad  "
      ]
     },
     "execution_count": 9,
     "metadata": {},
     "output_type": "execute_result"
    }
   ],
   "source": [
    "data.head()"
   ]
  },
  {
   "cell_type": "markdown",
   "metadata": {},
   "source": [
    "\n"
   ]
  },
  {
   "cell_type": "code",
   "execution_count": 10,
   "metadata": {},
   "outputs": [
    {
     "data": {
      "text/plain": [
       "(1000, 11)"
      ]
     },
     "execution_count": 10,
     "metadata": {},
     "output_type": "execute_result"
    }
   ],
   "source": [
    "data.shape"
   ]
  },
  {
   "cell_type": "markdown",
   "metadata": {},
   "source": [
    "## How many missing values are there?"
   ]
  },
  {
   "cell_type": "code",
   "execution_count": 11,
   "metadata": {},
   "outputs": [
    {
     "data": {
      "text/plain": [
       "Unnamed: 0            0\n",
       "Age                   0\n",
       "Sex                   0\n",
       "Job                   0\n",
       "Housing               0\n",
       "Saving accounts     183\n",
       "Checking account    394\n",
       "Credit amount         0\n",
       "Duration              0\n",
       "Purpose               0\n",
       "Risk                  0\n",
       "dtype: int64"
      ]
     },
     "execution_count": 11,
     "metadata": {},
     "output_type": "execute_result"
    }
   ],
   "source": [
    "data.isnull().sum() "
   ]
  },
  {
   "cell_type": "markdown",
   "metadata": {},
   "source": [
    "First I will identify the most frequently occurring value in both the Saving accounts and Checking account column (using SciPy's mode function as this ignores NaN values):"
   ]
  },
  {
   "cell_type": "code",
   "execution_count": 12,
   "metadata": {},
   "outputs": [
    {
     "name": "stdout",
     "output_type": "stream",
     "text": [
      "ModeResult(mode=array(['little'], dtype=object), count=array([274]))\n",
      "ModeResult(mode=array(['little'], dtype=object), count=array([603]))\n"
     ]
    }
   ],
   "source": [
    "from scipy.stats import mode\n",
    "\n",
    "Saving_accounts = data['Saving accounts']\n",
    "\n",
    "Checking_account= data['Checking account']\n",
    "\n",
    "print(mode(Checking_account))\n",
    "print(mode(Saving_accounts))"
   ]
  },
  {
   "cell_type": "markdown",
   "metadata": {},
   "source": [
    "As we can see a large amount of our data is missing in both the Checking account and Saving accounts columns, which we can assume are quite vital in predicting the reliability of loans. As such deleting the entire row is not possible meaning we will have to impute the missing values. \n",
    "\n",
    "I will do so by replacing the null values with the Mode (I may change this later for alternatives such as Backfill or using the Mean after removing outliers).\n",
    "\n",
    "The reason I have chosen the mode is that it will fill in the empty values with the lowest value (or in this case the most common financial situation) of a person taking a loan out. In addition to this it is safe to assume that we would prefer the worst case scenario (low disposable income and only a small amount of savings) as this would increase false Negatives and reduce False Positives. This is desirable as banks would usually want to reduce the Risk of unpaid loans. \n"
   ]
  },
  {
   "cell_type": "code",
   "execution_count": 13,
   "metadata": {},
   "outputs": [
    {
     "data": {
      "text/html": [
       "<div>\n",
       "<style scoped>\n",
       "    .dataframe tbody tr th:only-of-type {\n",
       "        vertical-align: middle;\n",
       "    }\n",
       "\n",
       "    .dataframe tbody tr th {\n",
       "        vertical-align: top;\n",
       "    }\n",
       "\n",
       "    .dataframe thead th {\n",
       "        text-align: right;\n",
       "    }\n",
       "</style>\n",
       "<table border=\"1\" class=\"dataframe\">\n",
       "  <thead>\n",
       "    <tr style=\"text-align: right;\">\n",
       "      <th></th>\n",
       "      <th>Unnamed: 0</th>\n",
       "      <th>Age</th>\n",
       "      <th>Sex</th>\n",
       "      <th>Job</th>\n",
       "      <th>Housing</th>\n",
       "      <th>Saving accounts</th>\n",
       "      <th>Checking account</th>\n",
       "      <th>Credit amount</th>\n",
       "      <th>Duration</th>\n",
       "      <th>Purpose</th>\n",
       "      <th>Risk</th>\n",
       "    </tr>\n",
       "  </thead>\n",
       "  <tbody>\n",
       "    <tr>\n",
       "      <th>0</th>\n",
       "      <td>0</td>\n",
       "      <td>67</td>\n",
       "      <td>male</td>\n",
       "      <td>2</td>\n",
       "      <td>own</td>\n",
       "      <td>little</td>\n",
       "      <td>little</td>\n",
       "      <td>1169</td>\n",
       "      <td>6</td>\n",
       "      <td>radio/TV</td>\n",
       "      <td>good</td>\n",
       "    </tr>\n",
       "    <tr>\n",
       "      <th>1</th>\n",
       "      <td>1</td>\n",
       "      <td>22</td>\n",
       "      <td>female</td>\n",
       "      <td>2</td>\n",
       "      <td>own</td>\n",
       "      <td>little</td>\n",
       "      <td>moderate</td>\n",
       "      <td>5951</td>\n",
       "      <td>48</td>\n",
       "      <td>radio/TV</td>\n",
       "      <td>bad</td>\n",
       "    </tr>\n",
       "    <tr>\n",
       "      <th>2</th>\n",
       "      <td>2</td>\n",
       "      <td>49</td>\n",
       "      <td>male</td>\n",
       "      <td>1</td>\n",
       "      <td>own</td>\n",
       "      <td>little</td>\n",
       "      <td>little</td>\n",
       "      <td>2096</td>\n",
       "      <td>12</td>\n",
       "      <td>education</td>\n",
       "      <td>good</td>\n",
       "    </tr>\n",
       "    <tr>\n",
       "      <th>3</th>\n",
       "      <td>3</td>\n",
       "      <td>45</td>\n",
       "      <td>male</td>\n",
       "      <td>2</td>\n",
       "      <td>free</td>\n",
       "      <td>little</td>\n",
       "      <td>little</td>\n",
       "      <td>7882</td>\n",
       "      <td>42</td>\n",
       "      <td>furniture/equipment</td>\n",
       "      <td>good</td>\n",
       "    </tr>\n",
       "    <tr>\n",
       "      <th>4</th>\n",
       "      <td>4</td>\n",
       "      <td>53</td>\n",
       "      <td>male</td>\n",
       "      <td>2</td>\n",
       "      <td>free</td>\n",
       "      <td>little</td>\n",
       "      <td>little</td>\n",
       "      <td>4870</td>\n",
       "      <td>24</td>\n",
       "      <td>car</td>\n",
       "      <td>bad</td>\n",
       "    </tr>\n",
       "  </tbody>\n",
       "</table>\n",
       "</div>"
      ],
      "text/plain": [
       "   Unnamed: 0  Age     Sex  Job Housing Saving accounts Checking account  \\\n",
       "0           0   67    male    2     own          little           little   \n",
       "1           1   22  female    2     own          little         moderate   \n",
       "2           2   49    male    1     own          little           little   \n",
       "3           3   45    male    2    free          little           little   \n",
       "4           4   53    male    2    free          little           little   \n",
       "\n",
       "   Credit amount  Duration              Purpose  Risk  \n",
       "0           1169         6             radio/TV  good  \n",
       "1           5951        48             radio/TV   bad  \n",
       "2           2096        12            education  good  \n",
       "3           7882        42  furniture/equipment  good  \n",
       "4           4870        24                  car   bad  "
      ]
     },
     "execution_count": 13,
     "metadata": {},
     "output_type": "execute_result"
    }
   ],
   "source": [
    "data['Saving accounts'] = data['Saving accounts'].fillna(data['Saving accounts'].mode()[0])\n",
    "data['Checking account'] = data['Checking account'].fillna(data['Saving accounts'].mode()[0])\n",
    "\n",
    "data.head()"
   ]
  },
  {
   "cell_type": "markdown",
   "metadata": {},
   "source": [
    "Above we can see the first 5 column and row values and the dimensionality of the data produced by ```data.shape```. We have 10 features and 1 target variable. They are nearly all in text form meaning we will need to convert this into numeric form before we input it into a machine learning algorithm that requires numeric inputs and outputs. "
   ]
  },
  {
   "cell_type": "code",
   "execution_count": 14,
   "metadata": {
    "scrolled": true
   },
   "outputs": [
    {
     "data": {
      "text/plain": [
       "array([1, 0, 1, 1, 1, 1, 1, 1, 1, 1, 0, 0, 0, 1, 0, 0, 1, 1, 0, 1, 1, 1,\n",
       "       1, 1, 1, 1, 1, 0, 1, 1, 1, 1, 1, 1, 0, 1, 1, 1, 1, 1, 1, 1, 1, 1,\n",
       "       0, 0, 1, 0, 1, 0, 1, 1, 1, 1, 1, 1, 1, 0, 0, 0, 1, 1, 1, 1, 0, 1,\n",
       "       0, 1, 1, 0, 0, 1, 1, 0, 1, 1, 1, 1, 1, 1, 0, 1, 0, 0, 1, 0, 0, 1,\n",
       "       1, 1, 1, 1, 0, 1, 1, 1, 0, 1, 1, 1, 1, 1, 0, 1, 1, 1, 1, 1, 0, 1,\n",
       "       1, 0, 1, 0, 1, 1, 0, 0, 0, 1, 0, 0, 1, 1, 0, 1, 1, 1, 1, 0, 0, 1,\n",
       "       1, 1, 0, 0, 1, 1, 1, 0, 1, 0, 1, 1, 0, 1, 0, 0, 1, 1, 1, 1, 1, 0,\n",
       "       1, 0, 1, 1, 1, 1, 1, 0, 1, 1, 1, 1, 0, 0, 0, 1, 1, 0, 0, 1, 1, 0,\n",
       "       1, 1, 1, 1, 1, 1, 1, 1, 1, 1, 0, 1, 1, 0, 1, 1, 1, 1, 1, 0, 0, 0,\n",
       "       1, 1, 1, 1, 1, 1, 1, 1, 1, 1, 1, 1, 1, 0, 1, 1, 1, 0, 1, 1, 1, 0,\n",
       "       1, 0, 1, 1, 1, 1, 1, 1, 1, 1, 1, 1, 1, 1, 1, 1, 1, 1, 0, 1, 0, 1,\n",
       "       1, 0, 0, 1, 1, 1, 1, 0, 0, 0, 0, 1, 1, 1, 1, 1, 0, 0, 1, 0, 1, 0,\n",
       "       1, 1, 1, 0, 1, 1, 1, 0, 1, 1, 1, 1, 0, 1, 0, 1, 1, 1, 1, 1, 1, 0,\n",
       "       1, 1, 0, 1, 1, 1, 0, 1, 1, 0, 0, 1, 1, 1, 0, 0, 1, 1, 1, 1, 0, 1,\n",
       "       0, 1, 1, 1, 0, 1, 1, 1, 1, 0, 1, 0, 1, 1, 1, 1, 0, 1, 1, 0, 1, 1,\n",
       "       1, 0, 0, 0, 1, 1, 0, 0, 1, 1, 0, 0, 1, 1, 1, 0, 1, 0, 1, 1, 0, 0,\n",
       "       1, 1, 1, 1, 1, 1, 1, 0, 1, 1, 0, 1, 1, 1, 1, 0, 1, 0, 1, 1, 0, 1,\n",
       "       0, 0, 1, 1, 1, 0, 1, 0, 0, 1, 1, 0, 0, 1, 1, 0, 1, 0, 1, 0, 1, 1,\n",
       "       0, 1, 1, 0, 1, 1, 1, 1, 1, 1, 1, 1, 1, 1, 0, 1, 1, 1, 0, 1, 1, 0,\n",
       "       0, 0, 0, 1, 1, 1, 0, 1, 1, 1, 1, 0, 1, 1, 1, 1, 1, 1, 1, 0, 1, 0,\n",
       "       1, 0, 1, 1, 0, 0, 0, 1, 0, 1, 1, 0, 1, 1, 1, 0, 1, 1, 0, 1, 1, 1,\n",
       "       0, 1, 1, 1, 0, 1, 0, 1, 1, 0, 1, 1, 1, 0, 1, 1, 1, 1, 0, 1, 0, 0,\n",
       "       1, 1, 1, 0, 1, 1, 1, 0, 0, 1, 1, 1, 1, 1, 1, 1, 0, 1, 1, 1, 0, 1,\n",
       "       1, 1, 1, 1, 1, 1, 1, 1, 1, 0, 1, 0, 1, 1, 1, 0, 1, 0, 0, 1, 0, 1,\n",
       "       1, 1, 1, 0, 1, 1, 1, 1, 0, 0, 1, 0, 1, 1, 1, 1, 1, 1, 0, 1, 0, 1,\n",
       "       0, 1, 1, 1, 0, 1, 0, 0, 1, 1, 1, 1, 0, 1, 1, 0, 1, 1, 1, 0, 0, 1,\n",
       "       0, 0, 1, 0, 0, 0, 1, 1, 1, 1, 0, 1, 0, 0, 1, 1, 1, 1, 0, 0, 0, 0,\n",
       "       1, 0, 0, 1, 1, 1, 0, 0, 0, 0, 0, 1, 1, 0, 1, 1, 0, 0, 0, 0, 0, 1,\n",
       "       1, 1, 0, 1, 1, 1, 1, 0, 1, 1, 1, 1, 1, 1, 0, 1, 1, 0, 0, 1, 0, 1,\n",
       "       0, 1, 0, 1, 1, 1, 1, 1, 1, 0, 1, 1, 1, 1, 1, 1, 1, 1, 1, 1, 0, 1,\n",
       "       1, 1, 1, 1, 0, 1, 1, 0, 1, 1, 1, 1, 1, 1, 1, 0, 1, 1, 1, 0, 0, 1,\n",
       "       1, 1, 1, 1, 1, 1, 1, 1, 1, 0, 1, 1, 1, 1, 1, 0, 1, 1, 0, 1, 0, 1,\n",
       "       0, 0, 1, 0, 0, 1, 1, 0, 1, 1, 1, 1, 1, 1, 1, 1, 1, 0, 0, 0, 0, 0,\n",
       "       1, 0, 0, 1, 1, 1, 0, 0, 0, 0, 0, 1, 1, 0, 1, 1, 1, 1, 1, 1, 0, 0,\n",
       "       1, 1, 0, 0, 0, 0, 1, 0, 1, 1, 1, 1, 0, 0, 1, 1, 1, 1, 1, 0, 1, 1,\n",
       "       0, 0, 1, 1, 1, 0, 1, 0, 1, 0, 1, 1, 1, 0, 1, 1, 1, 1, 1, 1, 0, 1,\n",
       "       1, 1, 1, 0, 1, 0, 1, 1, 1, 0, 0, 1, 0, 1, 1, 1, 1, 0, 1, 1, 1, 1,\n",
       "       1, 0, 1, 0, 1, 1, 1, 1, 1, 1, 1, 1, 0, 1, 1, 1, 1, 0, 1, 0, 0, 1,\n",
       "       0, 0, 1, 1, 1, 1, 0, 1, 1, 1, 1, 1, 1, 1, 1, 1, 1, 1, 1, 1, 0, 1,\n",
       "       0, 1, 1, 1, 0, 1, 1, 0, 0, 1, 1, 0, 0, 1, 1, 0, 1, 0, 1, 1, 1, 1,\n",
       "       1, 1, 1, 0, 1, 0, 1, 1, 1, 1, 1, 1, 1, 1, 1, 1, 0, 0, 0, 1, 1, 1,\n",
       "       1, 1, 1, 1, 1, 1, 0, 0, 0, 0, 0, 1, 1, 0, 1, 1, 1, 1, 0, 1, 0, 1,\n",
       "       1, 1, 0, 1, 1, 1, 1, 0, 1, 1, 0, 1, 0, 1, 1, 1, 1, 1, 1, 1, 0, 0,\n",
       "       1, 1, 1, 1, 1, 1, 0, 0, 0, 0, 1, 1, 1, 1, 1, 1, 1, 1, 1, 0, 1, 0,\n",
       "       1, 1, 1, 1, 0, 1, 0, 0, 0, 1, 1, 1, 1, 1, 0, 1, 1, 0, 1, 0, 1, 1,\n",
       "       1, 1, 1, 1, 1, 0, 1, 1, 1, 1])"
      ]
     },
     "execution_count": 14,
     "metadata": {},
     "output_type": "execute_result"
    }
   ],
   "source": [
    "from sklearn.preprocessing import LabelEncoder\n",
    "\n",
    "LableEnc = LabelEncoder()\n",
    "\n",
    "label_col = LableEnc.fit_transform(data['Sex'])\n",
    "\n",
    "label_col"
   ]
  },
  {
   "cell_type": "markdown",
   "metadata": {},
   "source": [
    "LabelEncoder takes the amount of unique attributes of a feature and replaces them with a numeric/integer value (starting from 0).\n",
    "\n",
    "Here we can see that the LabelEncoder has taken our 'Male' attribute and replaced it with 1 and taken the 'Female' attribute and replaced it with 0.\n",
    "\n",
    "Now we need to insert this as the 'Sex' column and remove the original 'Sex' column which used Strings as values, we can do this by replacing the entire column: "
   ]
  },
  {
   "cell_type": "code",
   "execution_count": 15,
   "metadata": {},
   "outputs": [
    {
     "data": {
      "text/html": [
       "<div>\n",
       "<style scoped>\n",
       "    .dataframe tbody tr th:only-of-type {\n",
       "        vertical-align: middle;\n",
       "    }\n",
       "\n",
       "    .dataframe tbody tr th {\n",
       "        vertical-align: top;\n",
       "    }\n",
       "\n",
       "    .dataframe thead th {\n",
       "        text-align: right;\n",
       "    }\n",
       "</style>\n",
       "<table border=\"1\" class=\"dataframe\">\n",
       "  <thead>\n",
       "    <tr style=\"text-align: right;\">\n",
       "      <th></th>\n",
       "      <th>Unnamed: 0</th>\n",
       "      <th>Age</th>\n",
       "      <th>Sex</th>\n",
       "      <th>Job</th>\n",
       "      <th>Housing</th>\n",
       "      <th>Saving accounts</th>\n",
       "      <th>Checking account</th>\n",
       "      <th>Credit amount</th>\n",
       "      <th>Duration</th>\n",
       "      <th>Purpose</th>\n",
       "      <th>Risk</th>\n",
       "    </tr>\n",
       "  </thead>\n",
       "  <tbody>\n",
       "    <tr>\n",
       "      <th>0</th>\n",
       "      <td>0</td>\n",
       "      <td>67</td>\n",
       "      <td>1</td>\n",
       "      <td>2</td>\n",
       "      <td>own</td>\n",
       "      <td>little</td>\n",
       "      <td>little</td>\n",
       "      <td>1169</td>\n",
       "      <td>6</td>\n",
       "      <td>radio/TV</td>\n",
       "      <td>good</td>\n",
       "    </tr>\n",
       "    <tr>\n",
       "      <th>1</th>\n",
       "      <td>1</td>\n",
       "      <td>22</td>\n",
       "      <td>0</td>\n",
       "      <td>2</td>\n",
       "      <td>own</td>\n",
       "      <td>little</td>\n",
       "      <td>moderate</td>\n",
       "      <td>5951</td>\n",
       "      <td>48</td>\n",
       "      <td>radio/TV</td>\n",
       "      <td>bad</td>\n",
       "    </tr>\n",
       "    <tr>\n",
       "      <th>2</th>\n",
       "      <td>2</td>\n",
       "      <td>49</td>\n",
       "      <td>1</td>\n",
       "      <td>1</td>\n",
       "      <td>own</td>\n",
       "      <td>little</td>\n",
       "      <td>little</td>\n",
       "      <td>2096</td>\n",
       "      <td>12</td>\n",
       "      <td>education</td>\n",
       "      <td>good</td>\n",
       "    </tr>\n",
       "    <tr>\n",
       "      <th>3</th>\n",
       "      <td>3</td>\n",
       "      <td>45</td>\n",
       "      <td>1</td>\n",
       "      <td>2</td>\n",
       "      <td>free</td>\n",
       "      <td>little</td>\n",
       "      <td>little</td>\n",
       "      <td>7882</td>\n",
       "      <td>42</td>\n",
       "      <td>furniture/equipment</td>\n",
       "      <td>good</td>\n",
       "    </tr>\n",
       "    <tr>\n",
       "      <th>4</th>\n",
       "      <td>4</td>\n",
       "      <td>53</td>\n",
       "      <td>1</td>\n",
       "      <td>2</td>\n",
       "      <td>free</td>\n",
       "      <td>little</td>\n",
       "      <td>little</td>\n",
       "      <td>4870</td>\n",
       "      <td>24</td>\n",
       "      <td>car</td>\n",
       "      <td>bad</td>\n",
       "    </tr>\n",
       "  </tbody>\n",
       "</table>\n",
       "</div>"
      ],
      "text/plain": [
       "   Unnamed: 0  Age  Sex  Job Housing Saving accounts Checking account  \\\n",
       "0           0   67    1    2     own          little           little   \n",
       "1           1   22    0    2     own          little         moderate   \n",
       "2           2   49    1    1     own          little           little   \n",
       "3           3   45    1    2    free          little           little   \n",
       "4           4   53    1    2    free          little           little   \n",
       "\n",
       "   Credit amount  Duration              Purpose  Risk  \n",
       "0           1169         6             radio/TV  good  \n",
       "1           5951        48             radio/TV   bad  \n",
       "2           2096        12            education  good  \n",
       "3           7882        42  furniture/equipment  good  \n",
       "4           4870        24                  car   bad  "
      ]
     },
     "execution_count": 15,
     "metadata": {},
     "output_type": "execute_result"
    }
   ],
   "source": [
    "data[\"Sex\"] = label_col\n",
    "\n",
    "data.head()"
   ]
  },
  {
   "cell_type": "markdown",
   "metadata": {},
   "source": [
    "Now lets do this for the rest of the columns that contain non-numerical data:"
   ]
  },
  {
   "cell_type": "code",
   "execution_count": 16,
   "metadata": {},
   "outputs": [
    {
     "data": {
      "text/html": [
       "<div>\n",
       "<style scoped>\n",
       "    .dataframe tbody tr th:only-of-type {\n",
       "        vertical-align: middle;\n",
       "    }\n",
       "\n",
       "    .dataframe tbody tr th {\n",
       "        vertical-align: top;\n",
       "    }\n",
       "\n",
       "    .dataframe thead th {\n",
       "        text-align: right;\n",
       "    }\n",
       "</style>\n",
       "<table border=\"1\" class=\"dataframe\">\n",
       "  <thead>\n",
       "    <tr style=\"text-align: right;\">\n",
       "      <th></th>\n",
       "      <th>Unnamed: 0</th>\n",
       "      <th>Age</th>\n",
       "      <th>Sex</th>\n",
       "      <th>Job</th>\n",
       "      <th>Housing</th>\n",
       "      <th>Saving accounts</th>\n",
       "      <th>Checking account</th>\n",
       "      <th>Credit amount</th>\n",
       "      <th>Duration</th>\n",
       "      <th>Purpose</th>\n",
       "      <th>Risk</th>\n",
       "    </tr>\n",
       "  </thead>\n",
       "  <tbody>\n",
       "    <tr>\n",
       "      <th>0</th>\n",
       "      <td>0</td>\n",
       "      <td>67</td>\n",
       "      <td>1</td>\n",
       "      <td>2</td>\n",
       "      <td>1</td>\n",
       "      <td>0</td>\n",
       "      <td>0</td>\n",
       "      <td>1169</td>\n",
       "      <td>6</td>\n",
       "      <td>5</td>\n",
       "      <td>1</td>\n",
       "    </tr>\n",
       "    <tr>\n",
       "      <th>1</th>\n",
       "      <td>1</td>\n",
       "      <td>22</td>\n",
       "      <td>0</td>\n",
       "      <td>2</td>\n",
       "      <td>1</td>\n",
       "      <td>0</td>\n",
       "      <td>1</td>\n",
       "      <td>5951</td>\n",
       "      <td>48</td>\n",
       "      <td>5</td>\n",
       "      <td>0</td>\n",
       "    </tr>\n",
       "    <tr>\n",
       "      <th>2</th>\n",
       "      <td>2</td>\n",
       "      <td>49</td>\n",
       "      <td>1</td>\n",
       "      <td>1</td>\n",
       "      <td>1</td>\n",
       "      <td>0</td>\n",
       "      <td>0</td>\n",
       "      <td>2096</td>\n",
       "      <td>12</td>\n",
       "      <td>3</td>\n",
       "      <td>1</td>\n",
       "    </tr>\n",
       "    <tr>\n",
       "      <th>3</th>\n",
       "      <td>3</td>\n",
       "      <td>45</td>\n",
       "      <td>1</td>\n",
       "      <td>2</td>\n",
       "      <td>0</td>\n",
       "      <td>0</td>\n",
       "      <td>0</td>\n",
       "      <td>7882</td>\n",
       "      <td>42</td>\n",
       "      <td>4</td>\n",
       "      <td>1</td>\n",
       "    </tr>\n",
       "    <tr>\n",
       "      <th>4</th>\n",
       "      <td>4</td>\n",
       "      <td>53</td>\n",
       "      <td>1</td>\n",
       "      <td>2</td>\n",
       "      <td>0</td>\n",
       "      <td>0</td>\n",
       "      <td>0</td>\n",
       "      <td>4870</td>\n",
       "      <td>24</td>\n",
       "      <td>1</td>\n",
       "      <td>0</td>\n",
       "    </tr>\n",
       "  </tbody>\n",
       "</table>\n",
       "</div>"
      ],
      "text/plain": [
       "   Unnamed: 0  Age  Sex  Job  Housing  Saving accounts  Checking account  \\\n",
       "0           0   67    1    2        1                0                 0   \n",
       "1           1   22    0    2        1                0                 1   \n",
       "2           2   49    1    1        1                0                 0   \n",
       "3           3   45    1    2        0                0                 0   \n",
       "4           4   53    1    2        0                0                 0   \n",
       "\n",
       "   Credit amount  Duration  Purpose  Risk  \n",
       "0           1169         6        5     1  \n",
       "1           5951        48        5     0  \n",
       "2           2096        12        3     1  \n",
       "3           7882        42        4     1  \n",
       "4           4870        24        1     0  "
      ]
     },
     "execution_count": 16,
     "metadata": {},
     "output_type": "execute_result"
    }
   ],
   "source": [
    "label_col = LableEnc.fit_transform(data['Housing'])\n",
    "data['Housing'] = label_col\n",
    "\n",
    "label_col = LableEnc.fit_transform(data['Saving accounts'])\n",
    "data['Saving accounts'] = label_col\n",
    "\n",
    "label_col = LableEnc.fit_transform(data['Checking account'])\n",
    "data[\"Checking account\"] = label_col\n",
    "\n",
    "label_col = LableEnc.fit_transform(data['Purpose'])\n",
    "data[\"Purpose\"] = label_col\n",
    "\n",
    "label_col = LableEnc.fit_transform(data['Risk'])\n",
    "data[\"Risk\"] = label_col\n",
    "\n",
    "data.head()"
   ]
  },
  {
   "cell_type": "markdown",
   "metadata": {},
   "source": [
    "The dataset [2] contains multiple features such as:\n",
    "\n",
    "1. Age \n",
    "\n",
    "2. Sex\n",
    "\n",
    "3. Job (0 being unskilled and non-resident, 1 being unskilled and resident, 2 being skilled, 3 being highly skilled) \n",
    "\n",
    "4. Housing (whether they own, rent or live in free accommodation), saving accounts (which determines how much they have in their savings account on a scale of a little, a moderate amount, quite rich or rich)\n",
    "\n",
    "5. Saving accounts (on the scale of a little, moderate, rich, and quite rich)\n",
    "\n",
    "6. Checking account (also on the scale of a little, moderate, rich and quite rich)\n",
    "\n",
    "7. Credit amount (measured in Deutsch Marks)\n",
    "\n",
    "8. Duration (in months)\n",
    "\n",
    "9. Purpose (split into various broad categories such as for a car, furniture/equipment, radio/TV, domestic appliances, repairs, education, business or vacation/other)\n",
    "\n",
    "\n",
    "\n",
    "\n"
   ]
  },
  {
   "cell_type": "markdown",
   "metadata": {},
   "source": [
    "## Why is this dataset interesting and what real-world problem could be solved by analysing it?"
   ]
  },
  {
   "cell_type": "markdown",
   "metadata": {},
   "source": [
    "This dataset provides an insight into why consumers utilise credit, and what they use that credit for. As you can see the data provided creates a succinct but comprehensive picture of each individuals finances. Using this data and whether they were able to repay the loan we can extrapolate this to new cases, determining prior to loaning money whether the person is a high risk or not. This could help to reduce underwriting expenses which is a clear ‘goal for any company’ in order to have the ‘highest net income possible’ [1]. This would be very useful in the financial domain, ensuring only safe loans were approved while reducing operating costs.   \n",
    "\n"
   ]
  },
  {
   "cell_type": "markdown",
   "metadata": {},
   "source": [
    "## Is there any skew in the representation of the different attributes?"
   ]
  },
  {
   "cell_type": "markdown",
   "metadata": {},
   "source": [
    "As this is a Classification problem the balance of our Risk class (class value) needs to be checked to see if additional data processing is required in order to artificially even out the balance. "
   ]
  },
  {
   "cell_type": "code",
   "execution_count": 17,
   "metadata": {},
   "outputs": [
    {
     "name": "stdout",
     "output_type": "stream",
     "text": [
      "Risk\n",
      "0    300\n",
      "1    700\n",
      "dtype: int64\n"
     ]
    }
   ],
   "source": [
    "Risk_good_bad = data.groupby(\"Risk\").size()\n",
    "print(Risk_good_bad)"
   ]
  },
  {
   "cell_type": "markdown",
   "metadata": {},
   "source": [
    "As we can see we have a somewhat imbalanced dataset here, as 70% of all the instances are classified as 'good' (a low amount of risk) and only 30% as bad (a high amount of risk). This needs to be addressed when preprocessing the data which will come in a later section. "
   ]
  },
  {
   "cell_type": "markdown",
   "metadata": {},
   "source": [
    "## Do the attributes conform to a Gaussian distribution? "
   ]
  },
  {
   "cell_type": "markdown",
   "metadata": {},
   "source": [
    "At this point in the coursework I am unsure as to what model I will select, but standard distribution of our features is often a required prerequisite for many useful tools in Machine Learning. As such, I will use tools to check the skew of my attributes to see if I will be required to correct this later on:  "
   ]
  },
  {
   "cell_type": "code",
   "execution_count": 18,
   "metadata": {},
   "outputs": [
    {
     "data": {
      "text/plain": [
       "Unnamed: 0          0.000000\n",
       "Age                 1.020739\n",
       "Sex                -0.822868\n",
       "Job                -0.374295\n",
       "Housing             0.070804\n",
       "Saving accounts     2.162772\n",
       "Checking account    1.266679\n",
       "Credit amount       1.949628\n",
       "Duration            1.094184\n",
       "Purpose            -0.014441\n",
       "Risk               -0.874183\n",
       "dtype: float64"
      ]
     },
     "execution_count": 18,
     "metadata": {},
     "output_type": "execute_result"
    }
   ],
   "source": [
    "skew = data.skew()\n",
    "\n",
    "skew"
   ]
  },
  {
   "cell_type": "markdown",
   "metadata": {},
   "source": [
    "And to visualise this we can run the following code:"
   ]
  },
  {
   "cell_type": "code",
   "execution_count": 20,
   "metadata": {},
   "outputs": [
    {
     "data": {
      "image/png": "[encoded data removed]",
      "text/plain": [
       "<Figure size 1440x1440 with 12 Axes>"
      ]
     },
     "metadata": {
      "needs_background": "light"
     },
     "output_type": "display_data"
    }
   ],
   "source": [
    "from matplotlib import pyplot as pplo\n",
    "\n",
    "data.plot(kind='density', subplots=True, layout=(4,3), sharex=False,figsize=[20, 20]) \n",
    "pplo.show()"
   ]
  },
  {
   "cell_type": "markdown",
   "metadata": {},
   "source": [
    "Here we can see that all of the features are quite far from a Gaussian distribution, and as such to utilise useful functions, such as Pearson's Correlation Coefficient, we have to normalise the data.\n",
    "\n",
    "This skewed data contains many outliers which will result in models that are not as accurate."
   ]
  },
  {
   "cell_type": "markdown",
   "metadata": {},
   "source": [
    "First we reformat the data so we can manipulate the data in ways that should benefit certain algorithms. As we are adapting the shape of our data so each feature fits follows a Gaussian distribution we will be normalisation techniques. We use this method as Linear Regression assumes a normal distribution:  "
   ]
  },
  {
   "cell_type": "code",
   "execution_count": 21,
   "metadata": {},
   "outputs": [],
   "source": [
    "from sklearn.preprocessing import MinMaxScaler\n",
    "from sklearn.preprocessing import LabelEncoder\n",
    "\n",
    "label_col = LableEnc.fit_transform(data['Sex'])\n",
    "data['Sex'] = label_col\n",
    "\n",
    "label_col = LableEnc.fit_transform(data['Housing'])\n",
    "data['Housing'] = label_col\n",
    "\n",
    "label_col = LableEnc.fit_transform(data['Saving accounts'])\n",
    "data['Saving accounts'] = label_col\n",
    "\n",
    "label_col = LableEnc.fit_transform(data['Checking account'])\n",
    "data[\"Checking account\"] = label_col\n",
    "\n",
    "label_col = LableEnc.fit_transform(data['Purpose'])\n",
    "data[\"Purpose\"] = label_col\n",
    "\n",
    "label_col = LableEnc.fit_transform(data['Risk'])\n",
    "data[\"Risk\"] = label_col\n",
    "\n",
    "array = data.values \n",
    "\n",
    "X = array[:,0:10]\n",
    "Y = array[:,10]"
   ]
  },
  {
   "cell_type": "code",
   "execution_count": 22,
   "metadata": {},
   "outputs": [],
   "source": [
    "from sklearn.preprocessing import Normalizer \n",
    "\n",
    "scaler = Normalizer().fit(X)\n",
    "\n",
    "normalisedX = scaler.transform(X)"
   ]
  },
  {
   "cell_type": "markdown",
   "metadata": {},
   "source": [
    "We should also visualise the Correlation between two variables as this will allow us to correct for this when applying Linear and Logistic Regression. \n",
    " "
   ]
  },
  {
   "cell_type": "code",
   "execution_count": 23,
   "metadata": {},
   "outputs": [
    {
     "data": {
      "image/png": "[encoded data removed]",
      "text/plain": [
       "<Figure size 720x720 with 2 Axes>"
      ]
     },
     "metadata": {
      "needs_background": "light"
     },
     "output_type": "display_data"
    }
   ],
   "source": [
    "import numpy as np\n",
    "\n",
    "cor = data.corr()\n",
    "\n",
    "fig = pplo.figure(figsize = [10,10])\n",
    "ax = fig.add_subplot(111)\n",
    "cax = ax.matshow(cor, vmin=-1, vmax=1)\n",
    "fig.colorbar(cax)\n",
    "\n",
    "ticks = np.arange(0,10,1)\n",
    "\n",
    "ax.set_xticks(ticks)\n",
    "ax.set_yticks(ticks)\n",
    "\n",
    "short_names = ['Age', 'Sex', 'Job', 'Home', 'Save', 'Chec', 'Cred', 'Dur', 'Purp', 'Risk']\n",
    "\n",
    "ax.set_xticklabels(short_names)\n",
    "ax.set_yticklabels(short_names)\n",
    "pplo.show()"
   ]
  },
  {
   "cell_type": "markdown",
   "metadata": {},
   "source": [
    "From this we can see that Duration and Purpose are highly correlated - which means that this pair should be removed if using a Linear Regression model. "
   ]
  },
  {
   "cell_type": "markdown",
   "metadata": {},
   "source": [
    "# Constructing and selecting features"
   ]
  },
  {
   "cell_type": "markdown",
   "metadata": {},
   "source": [
    "## Separating the features from the target variable."
   ]
  },
  {
   "cell_type": "markdown",
   "metadata": {},
   "source": [
    "Although we have done this before, for the sake of clarity we will load the data and separate the features from the target variable below:"
   ]
  },
  {
   "cell_type": "code",
   "execution_count": 25,
   "metadata": {},
   "outputs": [],
   "source": [
    "import pandas as pd\n",
    "\n",
    "filename = 'german_credit_data.csv'\n",
    "\n",
    "data = pd.read_csv(filename)\n",
    "\n",
    "label_col = LableEnc.fit_transform(data['Sex'])\n",
    "data['Sex'] = label_col\n",
    "\n",
    "label_col = LableEnc.fit_transform(data['Housing'])\n",
    "data['Housing'] = label_col\n",
    "\n",
    "label_col = LableEnc.fit_transform(data['Saving accounts'])\n",
    "data['Saving accounts'] = label_col\n",
    "\n",
    "label_col = LableEnc.fit_transform(data['Checking account'])\n",
    "data[\"Checking account\"] = label_col\n",
    "\n",
    "label_col = LableEnc.fit_transform(data['Purpose'])\n",
    "data[\"Purpose\"] = label_col\n",
    "\n",
    "label_col = LableEnc.fit_transform(data['Risk'])\n",
    "data[\"Risk\"] = label_col\n",
    "\n",
    "array = data.values \n",
    "\n",
    "X = array[:,0:10]\n",
    "Y = array[:,10]\n",
    "\n"
   ]
  },
  {
   "cell_type": "markdown",
   "metadata": {},
   "source": [
    "## Using a wrapper filter technique - Recursive Feature Evaluation (RFE) "
   ]
  },
  {
   "cell_type": "markdown",
   "metadata": {},
   "source": [
    "From a brief overview of the data it appears that some features that are included are somewhat unnecessary (like 'Purpose') to predict the target variable of 'good' or 'bad' credit risk. \n",
    "\n",
    "RFE will recursively remove these features, testing the model accuracy each time on a model of our choice to assess importance. \n",
    "\n",
    "After we apply RFE we need to renormalise the data as certain features will have been removed. \n",
    "\n",
    "I have chosen Linear Regression to select features: "
   ]
  },
  {
   "cell_type": "code",
   "execution_count": 26,
   "metadata": {},
   "outputs": [
    {
     "name": "stdout",
     "output_type": "stream",
     "text": [
      "Boolean Expression of Features selected: [False False  True  True False  True  True False False False]\n",
      "Rank: [6 5 1 1 3 1 1 7 4 2]\n",
      "Number of Features Selected: 4\n"
     ]
    }
   ],
   "source": [
    "from sklearn.feature_selection import RFE\n",
    "from sklearn.linear_model import LinearRegression\n",
    "from sklearn.preprocessing import Normalizer \n",
    "\n",
    "model = LinearRegression()\n",
    "\n",
    "rfe = RFE(model, n_features_to_select = 4)\n",
    "fit = rfe.fit(X, Y)\n",
    "\n",
    "X_with_RFE_applied1 = rfe.transform(X)\n",
    "\n",
    "scaler = Normalizer().fit(X_with_RFE_applied1)\n",
    "\n",
    "X_with_RFE_applied = scaler.transform(X_with_RFE_applied1)\n",
    "\n",
    "print(f\"Boolean Expression of Features selected: {fit.support_}\")\n",
    "print(f\"Rank: {fit.ranking_}\")\n",
    "print(f\"Number of Features Selected: {fit.n_features_}\")"
   ]
  },
  {
   "cell_type": "markdown",
   "metadata": {},
   "source": [
    "# Building the Machine Learning algorithms"
   ]
  },
  {
   "cell_type": "markdown",
   "metadata": {},
   "source": [
    "First we need to split our data using a training and test split:"
   ]
  },
  {
   "cell_type": "code",
   "execution_count": 27,
   "metadata": {},
   "outputs": [],
   "source": [
    "from sklearn.model_selection import train_test_split\n",
    "\n",
    "test_size = 0.33\n",
    "seed = 7\n",
    "\n",
    "X_train, X_test, Y_train, Y_test = train_test_split(X_with_RFE_applied, Y, test_size=test_size, random_state=seed)\n",
    "\n"
   ]
  },
  {
   "cell_type": "markdown",
   "metadata": {},
   "source": [
    "Now we see how it performs on a Linear Regression model:"
   ]
  },
  {
   "cell_type": "code",
   "execution_count": 28,
   "metadata": {},
   "outputs": [
    {
     "name": "stdout",
     "output_type": "stream",
     "text": [
      "Logistic Regression Accuracy: 72.42%\n"
     ]
    }
   ],
   "source": [
    "from sklearn.linear_model import LogisticRegression\n",
    "\n",
    "model = LogisticRegression(solver = 'liblinear')\n",
    "model.fit(X_train, Y_train)\n",
    "\n",
    "result = model.score(X_test, Y_test)\n",
    "\n",
    "print(f\"Logistic Regression Accuracy: {result * 100:.2f}%\")"
   ]
  },
  {
   "cell_type": "markdown",
   "metadata": {},
   "source": [
    "Now we can establish if our efforts to preprocess the data have resulted in better accuracy by passing our original X values to the Logistic Regression model:"
   ]
  },
  {
   "cell_type": "code",
   "execution_count": 29,
   "metadata": {},
   "outputs": [
    {
     "name": "stdout",
     "output_type": "stream",
     "text": [
      "Logistic Regression Accuracy: 74.55%\n"
     ]
    }
   ],
   "source": [
    "X_train, X_test, Y_train, Y_test = train_test_split(X, Y, test_size=test_size, random_state=seed)\n",
    "\n",
    "model = LogisticRegression(solver = 'liblinear')\n",
    "model.fit(X_train, Y_train)\n",
    "\n",
    "result = model.score(X_test, Y_test)\n",
    "\n",
    "print(f\"Logistic Regression Accuracy: {result * 100:.2f}%\")"
   ]
  },
  {
   "cell_type": "markdown",
   "metadata": {},
   "source": [
    "As we can see with a Simple Train Test split (using our unprocessed X values/features) our measure of accuracy has gone up but there are various other approaches we can use that reduce the variance of our estimated accuracy, such as K - three fold cross validation: "
   ]
  },
  {
   "cell_type": "code",
   "execution_count": 30,
   "metadata": {},
   "outputs": [
    {
     "name": "stdout",
     "output_type": "stream",
     "text": [
      "Logistic Regression Accuracy with RFE and normalisation: 71.70%, 0.32\n",
      "Logistic Regression Accuracy without RFE and normalisation: 74.10%, 1.84\n"
     ]
    }
   ],
   "source": [
    "from sklearn.model_selection import KFold\n",
    "from sklearn.model_selection import cross_val_score\n",
    "from sklearn.linear_model import LogisticRegression\n",
    "\n",
    "number_of_folds = 3 #This amount as dataset size is quite small, so need a small amount of folds to use a reasonable amount of the dataset\n",
    "seed = 7\n",
    "\n",
    "kfold = KFold(n_splits=number_of_folds, random_state=seed, shuffle=True)\n",
    "\n",
    "model_for_preprocessed_data = LogisticRegression(solver = 'liblinear')\n",
    "\n",
    "results = cross_val_score(model_for_preprocessed_data, X_with_RFE_applied, Y, cv=kfold)\n",
    "\n",
    "print(f\"Logistic Regression Accuracy with RFE and normalisation: {results.mean()*100.0:.2f}%, {results.std()*100.0:.2f}\")\n",
    "\n",
    "model_for_unprocessed_data = LogisticRegression(solver = 'liblinear')\n",
    "\n",
    "results = cross_val_score(model_for_unprocessed_data,X, Y, cv=kfold)\n",
    "\n",
    "print(f\"Logistic Regression Accuracy without RFE and normalisation: {results.mean()*100.0:.2f}%, {results.std()*100.0:.2f}\")\n",
    "\n",
    "\n",
    "\n",
    "\n",
    "\n"
   ]
  },
  {
   "cell_type": "markdown",
   "metadata": {},
   "source": [
    "The preprocessing we have used means the model is less computationally expensive (as RFE has removed 6 features from our dataset) but it is also less accurate. But there is also much less variance in our results as the deviation from the mean is less. As this dataset is relatively small arguably we should prioritise accuracy over the reduction of computational expense:"
   ]
  },
  {
   "cell_type": "markdown",
   "metadata": {},
   "source": [
    "I think that an issue with the data that I have created has been caused by my method of filling in the NaN values with the mode as opposed to using a more advanced method such as Backfill, arguably this has created too much bias causing more instances to be predicted as 'bad' risk. This is a desirable characteristic given the use case of this model but we should check if this is the case using a Confusion Matrix: "
   ]
  },
  {
   "cell_type": "code",
   "execution_count": 31,
   "metadata": {},
   "outputs": [
    {
     "name": "stdout",
     "output_type": "stream",
     "text": [
      "[[ 33  60]\n",
      " [ 31 206]] \n",
      "\n",
      "[[ 38  55]\n",
      " [ 29 208]]\n"
     ]
    }
   ],
   "source": [
    "from sklearn.metrics import confusion_matrix\n",
    "from sklearn.model_selection import train_test_split\n",
    "\n",
    "test_size = 0.33\n",
    "seed = 7\n",
    "X_train, X_test, Y_train, Y_test = train_test_split(X_with_RFE_applied, Y, test_size=test_size, random_state=seed)\n",
    "\n",
    "model_for_preprocessed_data = LogisticRegression(solver='liblinear')\n",
    "\n",
    "model_for_preprocessed_data.fit(X_train, Y_train)\n",
    "\n",
    "predicted_a = model_for_preprocessed_data.predict(X_test)\n",
    "\n",
    "matrix_with_rescaled_data = confusion_matrix(Y_test, predicted_a)\n",
    "\n",
    "\n",
    "X_train, X_test, Y_train, Y_test = train_test_split(X, Y, test_size=test_size, random_state=seed)\n",
    "\n",
    "model_for_unprocessed_data = LogisticRegression(solver='liblinear')\n",
    "\n",
    "model_for_unprocessed_data.fit(X_train, Y_train)\n",
    "\n",
    "predicted_b = model_for_unprocessed_data.predict(X_test)\n",
    "\n",
    "matrix_with_unprocessed_data = confusion_matrix(Y_test, predicted_b)\n",
    "\n",
    "print(matrix_with_rescaled_data, \"\\n\")\n",
    "\n",
    "print(matrix_with_unprocessed_data)\n"
   ]
  },
  {
   "cell_type": "markdown",
   "metadata": {},
   "source": [
    "The Confusion Matrix is split into quarters. The top left is the True Positives, the top right is the False Positives, the bottom left is the False Negatives and the bottom right is the True Negatives. As we can see our attempts at preprocessing have had the desired effect (although only slightly) as they have reduced the False Positives. As previously stated, I am going to try and oversample the minority class - which should result in more bias towards classifying new data as bad as opposed to good (a desirable result): "
   ]
  },
  {
   "cell_type": "code",
   "execution_count": 32,
   "metadata": {},
   "outputs": [],
   "source": [
    "from imblearn.over_sampling import RandomOverSampler\n",
    "\n",
    "oversample = RandomOverSampler(sampling_strategy='minority')\n",
    "\n",
    "X_over, Y_over = oversample.fit_resample(X_with_RFE_applied, Y)\n",
    "\n",
    "X_train, X_test, Y_train, Y_test = train_test_split(X_over, Y_over, test_size=test_size, random_state=seed)\n"
   ]
  },
  {
   "cell_type": "code",
   "execution_count": 33,
   "metadata": {},
   "outputs": [
    {
     "name": "stdout",
     "output_type": "stream",
     "text": [
      "[[144  71]\n",
      " [ 71 176]]\n"
     ]
    }
   ],
   "source": [
    "model_for_processed_and_oversampled_data = LogisticRegression(solver='liblinear')\n",
    "\n",
    "model_for_processed_and_oversampled_data.fit(X_train, Y_train)\n",
    "\n",
    "predicted_c = model_for_processed_and_oversampled_data.predict(X_test)\n",
    "\n",
    "matrix_with_processed_and_oversampled_data = confusion_matrix(Y_test, predicted_c)\n",
    "\n",
    "print(matrix_with_processed_and_oversampled_data)"
   ]
  },
  {
   "cell_type": "code",
   "execution_count": 34,
   "metadata": {},
   "outputs": [
    {
     "name": "stdout",
     "output_type": "stream",
     "text": [
      "Logistic Regression Accuracy with RFE, normalisaton and oversampling: 67.76%, 4.00\n"
     ]
    }
   ],
   "source": [
    "kfold = KFold(n_splits=5)\n",
    "\n",
    "results = cross_val_score(model_for_processed_and_oversampled_data, X_test, Y_test, cv=kfold)\n",
    "\n",
    "print(f\"Logistic Regression Accuracy with RFE, normalisaton and oversampling: {results.mean()*100.0:.2f}%, {results.std()*100.0:.2f}\")"
   ]
  },
  {
   "cell_type": "markdown",
   "metadata": {},
   "source": [
    "Now I will try two more models using a Confusion Matrix and K - fold Cross Validation to compare accuracy:"
   ]
  },
  {
   "cell_type": "code",
   "execution_count": 35,
   "metadata": {},
   "outputs": [
    {
     "name": "stdout",
     "output_type": "stream",
     "text": [
      "Decision Tree Accuracy with RFE, normalisaton and oversampling: 67.76%, 4.00\n",
      "\n",
      "[[162  53]\n",
      " [ 95 152]]\n"
     ]
    }
   ],
   "source": [
    "from sklearn.tree import DecisionTreeClassifier\n",
    "\n",
    "kfold = KFold(n_splits=4)\n",
    "\n",
    "model1 = DecisionTreeClassifier()\n",
    "\n",
    "model1.fit(X_train, Y_train)\n",
    "\n",
    "predicted_d = model1.predict(X_test)\n",
    "\n",
    "results1 = cross_val_score(model1,X_train, Y_train, cv=kfold)\n",
    "\n",
    "matrix1 = confusion_matrix(Y_test, predicted_d)\n",
    "\n",
    "print(f\"Decision Tree Accuracy with RFE, normalisaton and oversampling: {results.mean()*100.0:.2f}%, {results.std()*100.0:.2f}\\n\")\n",
    "print(matrix1)"
   ]
  },
  {
   "cell_type": "code",
   "execution_count": 36,
   "metadata": {},
   "outputs": [
    {
     "name": "stdout",
     "output_type": "stream",
     "text": [
      "Random Forest Accuracy with RFE, normalisaton and oversampling: 70.36%, 1.72\n",
      "\n",
      "[[152  63]\n",
      " [ 87 160]]\n"
     ]
    }
   ],
   "source": [
    "from sklearn.ensemble import RandomForestClassifier\n",
    "\n",
    "model2=RandomForestClassifier(n_estimators=100)\n",
    "\n",
    "model2.fit(X_train,Y_train)\n",
    "\n",
    "predicted_e = model2.predict(X_test)\n",
    "\n",
    "results2 = cross_val_score(model2,X_train, Y_train, cv=kfold)\n",
    "\n",
    "matrix2 = confusion_matrix(Y_test, predicted_e)\n",
    "\n",
    "print(f\"Random Forest Accuracy with RFE, normalisaton and oversampling: {results2.mean()*100.0:.2f}%, {results2.std()*100.0:.2f}\\n\")\n",
    "print(matrix2)"
   ]
  },
  {
   "cell_type": "markdown",
   "metadata": {},
   "source": [
    "At the moment we have been sacrificing accuracy for the sake of reducing False Positives and increasing False Negatives - which as you can see from the Confusion Matrix has been successful. As such, a bank that uses this model would have a low chance of unintentionally loaning money to someone who would be less likely to pay back the money but a higher chance of not loaning money to someone who does constitute a good risk - thus minimising risk. But I believe the process I selected for filling in null values was a too rudimentary, and would also like to change the aggressiveness of our RFE in order to determine if we are excluding valuable features:   "
   ]
  },
  {
   "cell_type": "code",
   "execution_count": 37,
   "metadata": {},
   "outputs": [],
   "source": [
    "from sklearn.preprocessing import MinMaxScaler\n",
    "from sklearn.preprocessing import LabelEncoder"
   ]
  },
  {
   "cell_type": "code",
   "execution_count": 1,
   "metadata": {},
   "outputs": [
    {
     "ename": "NameError",
     "evalue": "name 'pd' is not defined",
     "output_type": "error",
     "traceback": [
      "\u001b[0;31m---------------------------------------------------------------------------\u001b[0m",
      "\u001b[0;31mNameError\u001b[0m                                 Traceback (most recent call last)",
      "\u001b[0;32m<ipython-input-1-1cec80949446>\u001b[0m in \u001b[0;36m<module>\u001b[0;34m()\u001b[0m\n\u001b[1;32m      1\u001b[0m \u001b[0mfilename\u001b[0m \u001b[0;34m=\u001b[0m \u001b[0;34m'german_credit_data.csv'\u001b[0m\u001b[0;34m\u001b[0m\u001b[0;34m\u001b[0m\u001b[0m\n\u001b[1;32m      2\u001b[0m \u001b[0;34m\u001b[0m\u001b[0m\n\u001b[0;32m----> 3\u001b[0;31m \u001b[0mdata\u001b[0m \u001b[0;34m=\u001b[0m \u001b[0mpd\u001b[0m\u001b[0;34m.\u001b[0m\u001b[0mread_csv\u001b[0m\u001b[0;34m(\u001b[0m\u001b[0mfilename\u001b[0m\u001b[0;34m)\u001b[0m\u001b[0;34m\u001b[0m\u001b[0;34m\u001b[0m\u001b[0m\n\u001b[0m\u001b[1;32m      4\u001b[0m \u001b[0;34m\u001b[0m\u001b[0m\n\u001b[1;32m      5\u001b[0m \u001b[0mnew_data\u001b[0m \u001b[0;34m=\u001b[0m \u001b[0mdata\u001b[0m\u001b[0;34m.\u001b[0m\u001b[0mbfill\u001b[0m\u001b[0;34m(\u001b[0m\u001b[0maxis\u001b[0m\u001b[0;34m=\u001b[0m\u001b[0;36m0\u001b[0m\u001b[0;34m,\u001b[0m \u001b[0minplace\u001b[0m\u001b[0;34m=\u001b[0m\u001b[0;32mFalse\u001b[0m\u001b[0;34m,\u001b[0m \u001b[0mlimit\u001b[0m\u001b[0;34m=\u001b[0m\u001b[0;32mNone\u001b[0m\u001b[0;34m,\u001b[0m \u001b[0mdowncast\u001b[0m\u001b[0;34m=\u001b[0m\u001b[0;32mNone\u001b[0m\u001b[0;34m)\u001b[0m\u001b[0;34m\u001b[0m\u001b[0;34m\u001b[0m\u001b[0m\n",
      "\u001b[0;31mNameError\u001b[0m: name 'pd' is not defined"
     ]
    }
   ],
   "source": [
    "filename = 'german_credit_data.csv'\n",
    "\n",
    "data = pd.read_csv(filename)\n",
    "\n",
    "new_data = data.bfill(axis=0, inplace=False, limit=None, downcast=None)\n",
    "\n",
    "\n",
    "label_col = LableEnc.fit_transform(data['Sex'])\n",
    "new_data['Sex'] = label_col\n",
    "\n",
    "label_col = LableEnc.fit_transform(data['Housing'])\n",
    "new_data['Housing'] = label_col\n",
    "\n",
    "label_col = LableEnc.fit_transform(data['Saving accounts'])\n",
    "new_data['Saving accounts'] = label_col\n",
    "\n",
    "label_col = LableEnc.fit_transform(data['Checking account'])\n",
    "new_data[\"Checking account\"] = label_col\n",
    "\n",
    "label_col = LableEnc.fit_transform(data['Purpose'])\n",
    "new_data[\"Purpose\"] = label_col\n",
    "\n",
    "label_col = LableEnc.fit_transform(data['Risk'])\n",
    "new_data[\"Risk\"] = label_col\n",
    "\n",
    "array = new_data.values \n",
    "\n",
    "X = array[:,0:10]\n",
    "Y = array[:,10]\n",
    "\n",
    "\n",
    "new_data.head()"
   ]
  },
  {
   "cell_type": "code",
   "execution_count": 39,
   "metadata": {},
   "outputs": [
    {
     "name": "stdout",
     "output_type": "stream",
     "text": [
      "Boolean Expression of Features selected: [False False  True  True  True  True  True False  True  True]\n",
      "Rank: [3 2 1 1 1 1 1 4 1 1]\n",
      "Number of Features Selected: 7\n"
     ]
    }
   ],
   "source": [
    "from sklearn.feature_selection import RFE\n",
    "from sklearn.linear_model import LinearRegression\n",
    "from sklearn.preprocessing import Normalizer \n",
    "\n",
    "model = LinearRegression()\n",
    "\n",
    "rfe = RFE(model, n_features_to_select = 7)\n",
    "fit = rfe.fit(X, Y)\n",
    "\n",
    "X_with_RFE_applied1 = rfe.transform(X)\n",
    "\n",
    "scaler = Normalizer().fit(X_with_RFE_applied1)\n",
    "\n",
    "X_with_RFE_applied = scaler.transform(X_with_RFE_applied1)\n",
    "\n",
    "print(f\"Boolean Expression of Features selected: {fit.support_}\")\n",
    "print(f\"Rank: {fit.ranking_}\")\n",
    "print(f\"Number of Features Selected: {fit.n_features_}\")\n",
    "\n"
   ]
  },
  {
   "cell_type": "code",
   "execution_count": 40,
   "metadata": {},
   "outputs": [],
   "source": [
    "from imblearn.over_sampling import RandomOverSampler\n",
    "\n",
    "oversample = RandomOverSampler(sampling_strategy='minority')\n",
    "\n",
    "X_over, Y_over = oversample.fit_resample(X_with_RFE_applied, Y)\n",
    "\n",
    "X_train, X_test, Y_train, Y_test = train_test_split(X_over, Y_over, test_size=test_size, random_state=seed)\n"
   ]
  },
  {
   "cell_type": "markdown",
   "metadata": {},
   "source": [
    "So here we have created a new array that replaces all NaN data with Backfill as opposed to using the Mode. In addition to this we have increased the amount of selected features to seven as opposed to three and finally oversampled the minority class in order to reduce bias. What we can do now is compare the algorithms in a much more succinct way than used before and include an additional one for good measure:"
   ]
  },
  {
   "cell_type": "code",
   "execution_count": 41,
   "metadata": {},
   "outputs": [
    {
     "name": "stdout",
     "output_type": "stream",
     "text": [
      "LR: 67.21%, 0.045\n",
      "\n",
      "[[166  49]\n",
      " [114 133]] \n",
      "\n",
      "DTC: 82.21%, 0.032\n",
      "\n",
      "[[197  18]\n",
      " [ 78 169]] \n",
      "\n",
      "RFC: 85.43%, 0.020\n",
      "\n",
      "[[186  29]\n",
      " [ 46 201]] \n",
      "\n",
      "GNB: 61.21%, 0.036\n",
      "\n",
      "[[177  38]\n",
      " [133 114]] \n",
      "\n"
     ]
    }
   ],
   "source": [
    "from sklearn.model_selection import KFold\n",
    "from sklearn.model_selection import cross_val_score\n",
    "from sklearn.linear_model import LogisticRegression\n",
    "from sklearn.tree import DecisionTreeClassifier\n",
    "from sklearn.ensemble import RandomForestClassifier\n",
    "from sklearn.naive_bayes import GaussianNB\n",
    "\n",
    "models = []\n",
    "\n",
    "models.append(('LR', LogisticRegression(solver='liblinear')))\n",
    "models.append(('DTC', DecisionTreeClassifier()))\n",
    "models.append(('RFC', RandomForestClassifier(n_estimators=100)))\n",
    "models.append(('GNB', GaussianNB()))\n",
    "\n",
    "results = []\n",
    "names = []\n",
    "seed = 7 \n",
    "\n",
    "for name, model in models:\n",
    "   kfold = KFold(n_splits=10, shuffle=True, random_state=seed)\n",
    "   cv_results = cross_val_score(model, X_over, Y_over, cv=kfold, scoring='accuracy')\n",
    "   results.append(cv_results)\n",
    "   names.append(name)\n",
    "   msg = f'{name}: {cv_results.mean() * 100:.2f}%, {cv_results.std():.3f}\\n'\n",
    "   model.fit(X_train,Y_train)\n",
    "   predicted_loop = model.predict(X_test)\n",
    "   matrix_loop = confusion_matrix(Y_test, predicted_loop)\n",
    "   print(msg)\n",
    "   print(matrix_loop, \"\\n\") \n",
    "\n",
    "    \n",
    "\n",
    "\n"
   ]
  },
  {
   "cell_type": "markdown",
   "metadata": {},
   "source": [
    "Here we can see the accuracy of all our models after we have adapted the RFE, normalised the data subsequent to RFE and oversampled the minority class. This results in a much more satisfactory model with the DTC and the RFC achieving a much higher accuracy than the other models whilst also keeping False Positives much lower than False Negatives. I think after this test we have clearly established that our two candidate algorithms will be a Decision Tree Classifier and a Random Forest Classifier. "
   ]
  },
  {
   "cell_type": "markdown",
   "metadata": {},
   "source": [
    "# Evaluating models and analysing the results"
   ]
  },
  {
   "cell_type": "code",
   "execution_count": 42,
   "metadata": {},
   "outputs": [
    {
     "name": "stdout",
     "output_type": "stream",
     "text": [
      "DTC \n",
      "\n",
      "[[197  18]\n",
      " [ 76 171]] \n",
      "\n",
      "              precision    recall  f1-score   support\n",
      "\n",
      "           0       0.72      0.92      0.81       215\n",
      "           1       0.90      0.69      0.78       247\n",
      "\n",
      "    accuracy                           0.80       462\n",
      "   macro avg       0.81      0.80      0.80       462\n",
      "weighted avg       0.82      0.80      0.80       462\n",
      "\n",
      "RFC \n",
      "\n",
      "[[192  23]\n",
      " [ 52 195]] \n",
      "\n",
      "              precision    recall  f1-score   support\n",
      "\n",
      "           0       0.79      0.89      0.84       215\n",
      "           1       0.89      0.79      0.84       247\n",
      "\n",
      "    accuracy                           0.84       462\n",
      "   macro avg       0.84      0.84      0.84       462\n",
      "weighted avg       0.84      0.84      0.84       462\n",
      "\n"
     ]
    }
   ],
   "source": [
    "from sklearn.metrics import classification_report\n",
    "from sklearn.tree import DecisionTreeClassifier\n",
    "from sklearn.ensemble import RandomForestClassifier\n",
    "\n",
    "models = []\n",
    "\n",
    "models.append(('DTC', DecisionTreeClassifier()))\n",
    "models.append(('RFC', RandomForestClassifier(n_estimators=100)))\n",
    "\n",
    "\n",
    "results = []\n",
    "names = []\n",
    "seed = 7 \n",
    "\n",
    "for name, model in models:\n",
    "   model.fit(X_train, Y_train)\n",
    "   predicted = model.predict(X_test)\n",
    "   results.append(predicted)\n",
    "   report = classification_report(Y_test, predicted) \n",
    "   matrix_loop = confusion_matrix(Y_test, predicted)\n",
    "   print(name, '\\n')\n",
    "   print(matrix_loop, \"\\n\")  \n",
    "   print(report)"
   ]
  },
  {
   "cell_type": "code",
   "execution_count": null,
   "metadata": {},
   "outputs": [],
   "source": []
  },
  {
   "cell_type": "code",
   "execution_count": null,
   "metadata": {},
   "outputs": [],
   "source": []
  }
 ],
 "metadata": {
  "kernelspec": {
   "display_name": "Python 3",
   "language": "python",
   "name": "python3"
  },
  "language_info": {
   "codemirror_mode": {
    "name": "ipython",
    "version": 3
   },
   "file_extension": ".py",
   "mimetype": "text/x-python",
   "name": "python",
   "nbconvert_exporter": "python",
   "pygments_lexer": "ipython3",
   "version": "3.6.9"
  }
 },
 "nbformat": 4,
 "nbformat_minor": 5
}
